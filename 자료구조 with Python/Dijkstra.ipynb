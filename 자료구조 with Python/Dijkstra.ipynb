{
 "cells": [
  {
   "cell_type": "code",
   "execution_count": 3,
   "metadata": {},
   "outputs": [
    {
     "name": "stdout",
     "output_type": "stream",
     "text": [
      "[[1, 'C'], [5, 'B'], [2, 'A'], [7, 'D']]\n",
      "[1, 'C']\n",
      "[2, 'A']\n",
      "[5, 'B']\n",
      "[7, 'D']\n"
     ]
    }
   ],
   "source": [
    "import heapq\n",
    "\n",
    "queue = []\n",
    "heapq.heappush(queue,[2,'A'])\n",
    "heapq.heappush(queue,[5,'B'])\n",
    "heapq.heappush(queue,[1,'C'])\n",
    "heapq.heappush(queue,[7,'D'])\n",
    "print(queue)\n",
    "for index in range(len(queue)):\n",
    "    print(heapq.heappop(queue))"
   ]
  },
  {
   "cell_type": "code",
   "execution_count": 12,
   "metadata": {},
   "outputs": [],
   "source": [
    "mygraph = {\n",
    "    'A':{'B':8,'C':1,'D':2},\n",
    "    'B':{},\n",
    "    'C':{'B':5,'D':2},\n",
    "    'D':{'E':3,'F':5},\n",
    "    'E':{'F':1},\n",
    "    'F':{'A':5}  \n",
    "    }"
   ]
  },
  {
   "cell_type": "code",
   "execution_count": 13,
   "metadata": {},
   "outputs": [],
   "source": [
    "import heapq\n",
    "\n",
    "def dijkstra(graph,start):\n",
    "    distances = {node:float('inf')for node in graph}\n",
    "    distances[start] = 0 \n",
    "    queue = []\n",
    "    heapq.heappush(queue,[distances[start],start])\n",
    "    while queue:\n",
    "        current_distance,current_node = heapq.heappop(queue)\n",
    "        if distances[current_node]<current_distance:\n",
    "            continue\n",
    "        for adjacent,weight in graph[current_node].items():\n",
    "            distance = current_distance+weight\n",
    "            \n",
    "            if distance<distances[adjacent]:\n",
    "                distances[adjacent]= distance\n",
    "                heapq.heappush(queue,[distance,adjacent])\n",
    "    return distances"
   ]
  },
  {
   "cell_type": "code",
   "execution_count": 14,
   "metadata": {},
   "outputs": [
    {
     "data": {
      "text/plain": [
       "{'A': 0, 'B': 6, 'C': 1, 'D': 2, 'E': 5, 'F': 6}"
      ]
     },
     "execution_count": 14,
     "metadata": {},
     "output_type": "execute_result"
    }
   ],
   "source": [
    "dijkstra(mygraph,'A')"
   ]
  }
 ],
 "metadata": {
  "kernelspec": {
   "display_name": "Python 3",
   "language": "python",
   "name": "python3"
  },
  "language_info": {
   "codemirror_mode": {
    "name": "ipython",
    "version": 3
   },
   "file_extension": ".py",
   "mimetype": "text/x-python",
   "name": "python",
   "nbconvert_exporter": "python",
   "pygments_lexer": "ipython3",
   "version": "3.9.6"
  }
 },
 "nbformat": 4,
 "nbformat_minor": 2
}
