{
 "cells": [
  {
   "cell_type": "code",
   "execution_count": 1,
   "metadata": {},
   "outputs": [],
   "source": [
    "def is_available(candidate, current_col):\n",
    "    current_row = len(candidate)\n",
    "    for queen_row in range(current_row):    \n",
    "        if candidate[queen_row] == current_col or abs(candidate[queen_row] - current_col) == current_row - queen_row:\n",
    "            return False\n",
    "    return True\n",
    "\n",
    "\n",
    "def DFS(N, current_row, current_candidate, final_result):\n",
    "    if current_row == N:\n",
    "        final_result.append(current_candidate[:])\n",
    "        return\n",
    "    \n",
    "    for candidate_col in range(N):\n",
    "        if is_available(current_candidate, candidate_col):\n",
    "            current_candidate.append(candidate_col)\n",
    "            DFS(N, current_row + 1, current_candidate, final_result)\n",
    "            current_candidate.pop()\n",
    "\n",
    "\n",
    "def solve_n_queens(N):\n",
    "    final_result = []\n",
    "    DFS(N, 0, [], final_result)\n",
    "    return final_result"
   ]
  },
  {
   "cell_type": "code",
   "execution_count": 2,
   "metadata": {},
   "outputs": [
    {
     "data": {
      "text/plain": [
       "[[0, 2, 4, 1, 3],\n",
       " [0, 3, 1, 4, 2],\n",
       " [1, 3, 0, 2, 4],\n",
       " [1, 4, 2, 0, 3],\n",
       " [2, 0, 3, 1, 4],\n",
       " [2, 4, 1, 3, 0],\n",
       " [3, 0, 2, 4, 1],\n",
       " [3, 1, 4, 2, 0],\n",
       " [4, 1, 3, 0, 2],\n",
       " [4, 2, 0, 3, 1]]"
      ]
     },
     "execution_count": 2,
     "metadata": {},
     "output_type": "execute_result"
    }
   ],
   "source": [
    "solve_n_queens(5)"
   ]
  }
 ],
 "metadata": {
  "kernelspec": {
   "display_name": "Python 3",
   "language": "python",
   "name": "python3"
  },
  "language_info": {
   "codemirror_mode": {
    "name": "ipython",
    "version": 3
   },
   "file_extension": ".py",
   "mimetype": "text/x-python",
   "name": "python",
   "nbconvert_exporter": "python",
   "pygments_lexer": "ipython3",
   "version": "3.7.5"
  },
  "orig_nbformat": 4
 },
 "nbformat": 4,
 "nbformat_minor": 2
}
