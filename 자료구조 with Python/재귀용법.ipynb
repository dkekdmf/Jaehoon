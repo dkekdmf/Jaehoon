{
 "cells": [
  {
   "attachments": {},
   "cell_type": "markdown",
   "metadata": {},
   "source": [
    "#팩토리얼 재귀용법으로 구현"
   ]
  },
  {
   "cell_type": "code",
   "execution_count": 12,
   "metadata": {},
   "outputs": [],
   "source": [
    "def factorial(num):\n",
    "    if num <=1:\n",
    "        return num\n",
    "    else:\n",
    "        return num*factorial(num-1)"
   ]
  },
  {
   "cell_type": "code",
   "execution_count": 15,
   "metadata": {},
   "outputs": [
    {
     "name": "stdout",
     "output_type": "stream",
     "text": [
      "0\n",
      "1\n",
      "2\n",
      "6\n",
      "24\n"
     ]
    }
   ],
   "source": [
    "for num in range(5):\n",
    "    print(factorial(num))"
   ]
  },
  {
   "cell_type": "code",
   "execution_count": null,
   "metadata": {},
   "outputs": [],
   "source": [
    "# 일반적인 형태1\n",
    "def function(입력):\n",
    "    if 입력 > 일정값: # 입력이 일정 값 이상이면\n",
    "        return function(입력 - 1) # 입력보다 작은 값\n",
    "    else:\n",
    "        return 일정값, 입력값, 또는 ,특정값 # 재귀 호출 종료"
   ]
  },
  {
   "cell_type": "code",
   "execution_count": null,
   "metadata": {},
   "outputs": [],
   "source": [
    "# 일반적인 형태2\n",
    "def function(입력):\n",
    "    if 입력 <= 일정값:              # 입력이 일정 값보다 작으면\n",
    "        return 일정값, 입력값, 또는, 특정값              # 재귀 호출 종료\n",
    "    function(입력보다 작은 값)\n",
    "    return 결과값"
   ]
  },
  {
   "cell_type": "code",
   "execution_count": null,
   "metadata": {},
   "outputs": [],
   "source": []
  }
 ],
 "metadata": {
  "kernelspec": {
   "display_name": "Python 3",
   "language": "python",
   "name": "python3"
  },
  "language_info": {
   "codemirror_mode": {
    "name": "ipython",
    "version": 3
   },
   "file_extension": ".py",
   "mimetype": "text/x-python",
   "name": "python",
   "nbconvert_exporter": "python",
   "pygments_lexer": "ipython3",
   "version": "3.9.6"
  },
  "orig_nbformat": 4
 },
 "nbformat": 4,
 "nbformat_minor": 2
}
