{
 "cells": [
  {
   "cell_type": "code",
   "execution_count": 13,
   "metadata": {},
   "outputs": [],
   "source": [
    "def mergesplit(data):\n",
    "    if len(data)<= 1:\n",
    "        return data\n",
    "    else:\n",
    "        medium = int(len(data)/2)\n",
    "        left = mergesplit(data[:medium])\n",
    "        right = mergesplit(data[medium:])\n",
    "        \n",
    "    return merge(left,right)"
   ]
  },
  {
   "cell_type": "code",
   "execution_count": 14,
   "metadata": {},
   "outputs": [],
   "source": [
    "def merge(left,right):\n",
    "    mergelist = list()\n",
    "    left_point,right_point = 0,0\n",
    "    \n",
    "    while len(left)>left_point and len(right)>right_point:\n",
    "        if len[left_point] > len[right_point]:\n",
    "            mergelist.append(right[right_point])\n",
    "            right_point+=1\n",
    "        else:\n",
    "            mergelist.append(left[left_point])\n",
    "            left_point+=1\n",
    "    while len(left)>left_point:\n",
    "         mergelist.append(left[left_point])\n",
    "    while len(right)>right_point:\n",
    "        mergelist.append(right[right_point])\n",
    "    return mergelist"
   ]
  },
  {
   "cell_type": "code",
   "execution_count": 15,
   "metadata": {},
   "outputs": [
    {
     "name": "stdout",
     "output_type": "stream",
     "text": [
      "<function mergesplit at 0x0000023D8851E700>\n"
     ]
    }
   ],
   "source": [
    "def merge(left, right):\n",
    "    merged = list()\n",
    "    left_point, right_point = 0, 0\n",
    "    \n",
    "    # case1 - left/right 둘다 있을때\n",
    "    while len(left) > left_point and len(right) > right_point:\n",
    "        if left[left_point] > right[right_point]:\n",
    "            merged.append(right[right_point])\n",
    "            right_point += 1\n",
    "        else:\n",
    "            merged.append(left[left_point])\n",
    "            left_point += 1\n",
    "\n",
    "    # case2 - left 데이터가 없을 때\n",
    "    while len(left) > left_point:\n",
    "        merged.append(left[left_point])\n",
    "        left_point += 1\n",
    "        \n",
    "    # case3 - right 데이터가 없을 때\n",
    "    while len(right) > right_point:\n",
    "        merged.append(right[right_point])\n",
    "        right_point += 1\n",
    "    \n",
    "    return merged\n",
    "\n",
    "\n",
    "def mergesplit(data):\n",
    "    if len(data) <= 1:\n",
    "        return data\n",
    "    medium = int(len(data) / 2)\n",
    "    left = mergesplit(data[:medium])\n",
    "    right = mergesplit(data[medium:])\n",
    "    return merge(left, right)"
   ]
  },
  {
   "cell_type": "code",
   "execution_count": 21,
   "metadata": {},
   "outputs": [],
   "source": [
    "def mergesplit(data):\n",
    "    if len(data)<= 1:\n",
    "        return data\n",
    "    medium = int(len(data)/2)\n",
    "    left = mergesplit(data[:medium])\n",
    "    right = mergesplit(data[medium:])\n",
    "    return merge(left,right)\n",
    "\n",
    "def merge(left,right):\n",
    "    mergelist = list()\n",
    "    left_point,right_point = 0,0\n",
    "    \n",
    "    while len(left)>left_point and len(right)>right_point:\n",
    "        if left[left_point] > right[right_point]:\n",
    "            mergelist.append(right[right_point])\n",
    "            right_point+=1\n",
    "        else:\n",
    "            mergelist.append(left[left_point])\n",
    "            left_point+=1\n",
    "    while len(left)>left_point:\n",
    "         mergelist.append(left[left_point])\n",
    "         left_point+=1\n",
    "    while len(right)>right_point:\n",
    "        mergelist.append(right[right_point])\n",
    "        right_point+=1\n",
    "   \n",
    "    return mergelist"
   ]
  },
  {
   "cell_type": "code",
   "execution_count": 22,
   "metadata": {},
   "outputs": [
    {
     "name": "stdout",
     "output_type": "stream",
     "text": [
      "[10, 11, 13, 22, 27, 47, 79, 88, 91, 95]\n"
     ]
    }
   ],
   "source": [
    "import random\n",
    "\n",
    "data_list = random.sample(range(100),10)\n",
    "print(mergesplit(data_list))"
   ]
  }
 ],
 "metadata": {
  "kernelspec": {
   "display_name": "Python 3",
   "language": "python",
   "name": "python3"
  },
  "language_info": {
   "codemirror_mode": {
    "name": "ipython",
    "version": 3
   },
   "file_extension": ".py",
   "mimetype": "text/x-python",
   "name": "python",
   "nbconvert_exporter": "python",
   "pygments_lexer": "ipython3",
   "version": "3.9.6"
  },
  "orig_nbformat": 4
 },
 "nbformat": 4,
 "nbformat_minor": 2
}
