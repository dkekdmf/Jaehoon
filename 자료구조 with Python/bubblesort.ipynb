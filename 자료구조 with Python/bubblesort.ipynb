{
 "cells": [
  {
   "cell_type": "code",
   "execution_count": 5,
   "metadata": {},
   "outputs": [],
   "source": [
    "def bubblesort(data):\n",
    "    swap = False\n",
    "    for index in range(len(data)-1):\n",
    "        for index2 in range(len(data)-index-1):\n",
    "            if data[index2] > data[index2+1]:\n",
    "                data[index2],data[index2+1] = data[index2+1],data[index2]\n",
    "                swap = True\n",
    "        if swap ==False:\n",
    "          break\n",
    "    return data"
   ]
  },
  {
   "cell_type": "code",
   "execution_count": 6,
   "metadata": {},
   "outputs": [
    {
     "name": "stdout",
     "output_type": "stream",
     "text": [
      "[4, 20, 27, 40, 65, 70, 74, 76, 89, 99]\n"
     ]
    }
   ],
   "source": [
    "import random\n",
    "datalist = random.sample(range(100),10)\n",
    "print(bubblesort(datalist))"
   ]
  }
 ],
 "metadata": {
  "kernelspec": {
   "display_name": "Python 3",
   "language": "python",
   "name": "python3"
  },
  "language_info": {
   "codemirror_mode": {
    "name": "ipython",
    "version": 3
   },
   "file_extension": ".py",
   "mimetype": "text/x-python",
   "name": "python",
   "nbconvert_exporter": "python",
   "pygments_lexer": "ipython3",
   "version": "3.9.6"
  },
  "orig_nbformat": 4
 },
 "nbformat": 4,
 "nbformat_minor": 2
}
