{
 "cells": [
  {
   "cell_type": "markdown",
   "metadata": {},
   "source": [
    "#딕셔너리 자료형 접근"
   ]
  },
  {
   "cell_type": "code",
   "execution_count": 7,
   "metadata": {},
   "outputs": [
    {
     "name": "stdout",
     "output_type": "stream",
     "text": [
      "dict_keys(['사과', '오렌지', '복숭아']) dict_values(['Apple', 'Orange', 'Peach'])\n",
      "Apple\n",
      "Orange\n",
      "Peach\n"
     ]
    }
   ],
   "source": [
    "data = dict()\n",
    "data['사과'] = 'Apple'\n",
    "data['오렌지'] = 'Orange'\n",
    "data['복숭아'] = 'Peach'\n",
    "\n",
    "key_list  = data.keys()\n",
    "val_list = data.values()\n",
    "\n",
    "print(key_list,val_list)\n",
    "\n",
    "for key in key_list:\n",
    "   print(data[key])"
   ]
  },
  {
   "cell_type": "markdown",
   "metadata": {},
   "source": [
    "#리스트컴프리헨션"
   ]
  },
  {
   "cell_type": "code",
   "execution_count": 14,
   "metadata": {},
   "outputs": [
    {
     "name": "stdout",
     "output_type": "stream",
     "text": [
      "[1, 3, 5, 7, 9]\n",
      "[[3, 3, 3, 3], [3, 3, 3, 3], [3, 3, 3, 3]]\n"
     ]
    }
   ],
   "source": [
    "array = [i for i in range(10) if i%2 ==1]\n",
    "print(array)\n",
    "n= 3\n",
    "m=4\n",
    "array = [[n]*m for _ in range(n)]\n",
    "print(array)\n"
   ]
  },
  {
   "cell_type": "markdown",
   "metadata": {},
   "source": [
    "#합계 구하기"
   ]
  },
  {
   "cell_type": "code",
   "execution_count": 15,
   "metadata": {},
   "outputs": [
    {
     "name": "stdout",
     "output_type": "stream",
     "text": [
      "10\n"
     ]
    }
   ],
   "source": [
    "sum =0\n",
    "for i in range(5):\n",
    "    sum+=i\n",
    "print(sum)"
   ]
  },
  {
   "cell_type": "markdown",
   "metadata": {},
   "source": [
    "#파이썬 함수들"
   ]
  },
  {
   "cell_type": "code",
   "execution_count": 23,
   "metadata": {},
   "outputs": [
    {
     "name": "stdout",
     "output_type": "stream",
     "text": [
      "[1, 5, 4, 7]\n",
      "[1, 5, 4, 7, 10]\n",
      "[1, 4, 5, 7, 10]\n",
      "[1, 4, 3, 5, 7, 10]\n",
      "[10, 7, 5, 3, 4, 1]\n"
     ]
    }
   ],
   "source": [
    "a=[1,3,5,4,7]\n",
    "\n",
    "a.remove(3)\n",
    "print(a)\n",
    "a.append(10)\n",
    "print(a)\n",
    "a.sort()\n",
    "print(a)\n",
    "a.count(5)\n",
    "a.insert(2,3)\n",
    "print(a)\n",
    "a.reverse()\n",
    "print(a)"
   ]
  },
  {
   "cell_type": "markdown",
   "metadata": {},
   "source": [
    "#리스트 컴프리헨션"
   ]
  },
  {
   "cell_type": "code",
   "execution_count": 26,
   "metadata": {},
   "outputs": [
    {
     "name": "stdout",
     "output_type": "stream",
     "text": [
      "[1, 2, 4]\n"
     ]
    }
   ],
   "source": [
    "a = [1,2,3,4,5,5,5]\n",
    "remove_set = {3,5}\n",
    "\n",
    "result = [i for i in a if i not in remove_set]\n",
    "print(result)"
   ]
  },
  {
   "cell_type": "markdown",
   "metadata": {},
   "source": [
    "set자료형"
   ]
  },
  {
   "cell_type": "code",
   "execution_count": 28,
   "metadata": {},
   "outputs": [
    {
     "name": "stdout",
     "output_type": "stream",
     "text": [
      "{1, 2, 3, 5, 6}\n",
      "{1, 2, 3, 5, 6}\n"
     ]
    }
   ],
   "source": [
    "data = set([1,3,3,3,2,2,5,6])\n",
    "print(data)\n",
    "\n",
    "data = {1,3,3,3,2,2,5,6}\n",
    "print(data)\n"
   ]
  },
  {
   "cell_type": "code",
   "execution_count": 29,
   "metadata": {},
   "outputs": [
    {
     "name": "stdout",
     "output_type": "stream",
     "text": [
      "{1, 2, 3, 4, 5, 6, 7}\n",
      "{3, 4, 5}\n",
      "{1, 2}\n"
     ]
    }
   ],
   "source": [
    "a= set([1,2,3,4,5])\n",
    "b = set([3,4,5,6,7])\n",
    "\n",
    "print(a|b)\n",
    "print(a&b)\n",
    "print(a-b)"
   ]
  },
  {
   "cell_type": "code",
   "execution_count": 33,
   "metadata": {},
   "outputs": [
    {
     "name": "stdout",
     "output_type": "stream",
     "text": [
      "{1, 2, 3, 4, 5, 6}\n",
      "{1, 2, 3, 4, 5, 6, 7, 8}\n",
      "{1, 3, 4, 5, 6, 7, 8}\n"
     ]
    }
   ],
   "source": [
    "data = set([1,2,3,4,5])\n",
    "data.add(6)\n",
    "print(data)\n",
    "data.update([7,8])\n",
    "print(data)\n",
    "data.remove(2)\n",
    "print(data)"
   ]
  },
  {
   "cell_type": "markdown",
   "metadata": {},
   "source": [
    "while반복문"
   ]
  },
  {
   "cell_type": "code",
   "execution_count": 37,
   "metadata": {},
   "outputs": [
    {
     "name": "stdout",
     "output_type": "stream",
     "text": [
      "55\n"
     ]
    }
   ],
   "source": [
    "result = 0\n",
    "i = 0\n",
    "while(i<11):\n",
    "    result+=i\n",
    "    i+=1\n",
    "print(result)"
   ]
  },
  {
   "cell_type": "code",
   "execution_count": 39,
   "metadata": {},
   "outputs": [
    {
     "name": "stdout",
     "output_type": "stream",
     "text": [
      "1 odd\n",
      "3 odd\n"
     ]
    }
   ],
   "source": [
    "result = 0\n",
    "i = 0\n",
    "while(i<5):\n",
    "    if i%2==1:\n",
    "        print(i,'odd')\n",
    "    i+=1"
   ]
  },
  {
   "cell_type": "markdown",
   "metadata": {},
   "source": [
    "for문"
   ]
  },
  {
   "cell_type": "code",
   "execution_count": 40,
   "metadata": {},
   "outputs": [
    {
     "name": "stdout",
     "output_type": "stream",
     "text": [
      "45\n"
     ]
    }
   ],
   "source": [
    "result = 0\n",
    "\n",
    "for i in range(10):\n",
    "    result+=i\n",
    "print(result)"
   ]
  },
  {
   "cell_type": "code",
   "execution_count": 42,
   "metadata": {},
   "outputs": [
    {
     "name": "stdout",
     "output_type": "stream",
     "text": [
      "1 합격\n",
      "2 합격\n",
      "4 합격\n"
     ]
    }
   ],
   "source": [
    "\n",
    "scores = [80,90,55,70,22]\n",
    "\n",
    "for i in range(5):\n",
    "    if scores[i]>=60:\n",
    "        print(i+1,'합격')"
   ]
  },
  {
   "cell_type": "code",
   "execution_count": 43,
   "metadata": {},
   "outputs": [
    {
     "name": "stdout",
     "output_type": "stream",
     "text": [
      "1 80 합격\n"
     ]
    }
   ],
   "source": [
    "scores = [80,90,55,70,22]\n",
    "cheating_list = {2,4}\n",
    "\n",
    "for i in range(5):\n",
    "    if i+1 in cheating_list:\n",
    "        continue\n",
    "    if scores[i]>=80:\n",
    "        print(i+1,scores[i],'합격')"
   ]
  },
  {
   "cell_type": "code",
   "execution_count": 47,
   "metadata": {},
   "outputs": [
    {
     "name": "stdout",
     "output_type": "stream",
     "text": [
      "2 X 1 = 2\n",
      "2 X 2 = 4\n",
      "2 X 3 = 6\n",
      "2 X 4 = 8\n",
      "2 X 5 = 10\n",
      "2 X 6 = 12\n",
      "2 X 7 = 14\n",
      "2 X 8 = 16\n",
      "2 X 9 = 18\n",
      "\n",
      "3 X 1 = 3\n",
      "3 X 2 = 6\n",
      "3 X 3 = 9\n",
      "3 X 4 = 12\n",
      "3 X 5 = 15\n",
      "3 X 6 = 18\n",
      "3 X 7 = 21\n",
      "3 X 8 = 24\n",
      "3 X 9 = 27\n",
      "\n",
      "4 X 1 = 4\n",
      "4 X 2 = 8\n",
      "4 X 3 = 12\n",
      "4 X 4 = 16\n",
      "4 X 5 = 20\n",
      "4 X 6 = 24\n",
      "4 X 7 = 28\n",
      "4 X 8 = 32\n",
      "4 X 9 = 36\n",
      "\n",
      "5 X 1 = 5\n",
      "5 X 2 = 10\n",
      "5 X 3 = 15\n",
      "5 X 4 = 20\n",
      "5 X 5 = 25\n",
      "5 X 6 = 30\n",
      "5 X 7 = 35\n",
      "5 X 8 = 40\n",
      "5 X 9 = 45\n",
      "\n",
      "6 X 1 = 6\n",
      "6 X 2 = 12\n",
      "6 X 3 = 18\n",
      "6 X 4 = 24\n",
      "6 X 5 = 30\n",
      "6 X 6 = 36\n",
      "6 X 7 = 42\n",
      "6 X 8 = 48\n",
      "6 X 9 = 54\n",
      "\n",
      "7 X 1 = 7\n",
      "7 X 2 = 14\n",
      "7 X 3 = 21\n",
      "7 X 4 = 28\n",
      "7 X 5 = 35\n",
      "7 X 6 = 42\n",
      "7 X 7 = 49\n",
      "7 X 8 = 56\n",
      "7 X 9 = 63\n",
      "\n",
      "8 X 1 = 8\n",
      "8 X 2 = 16\n",
      "8 X 3 = 24\n",
      "8 X 4 = 32\n",
      "8 X 5 = 40\n",
      "8 X 6 = 48\n",
      "8 X 7 = 56\n",
      "8 X 8 = 64\n",
      "8 X 9 = 72\n",
      "\n",
      "9 X 1 = 9\n",
      "9 X 2 = 18\n",
      "9 X 3 = 27\n",
      "9 X 4 = 36\n",
      "9 X 5 = 45\n",
      "9 X 6 = 54\n",
      "9 X 7 = 63\n",
      "9 X 8 = 72\n",
      "9 X 9 = 81\n",
      "\n"
     ]
    }
   ],
   "source": [
    "for i in range(2,10):\n",
    "    for j in range(1,10):\n",
    "        print(i,\"X\",j,\"=\",i*j)\n",
    "    print()"
   ]
  },
  {
   "cell_type": "code",
   "execution_count": 48,
   "metadata": {},
   "outputs": [
    {
     "name": "stdout",
     "output_type": "stream",
     "text": [
      "10\n"
     ]
    }
   ],
   "source": [
    "a = 0\n",
    "def func():\n",
    "    global a\n",
    "    a+=1\n",
    "for i in range(10):\n",
    "    func()\n",
    "print(a)"
   ]
  },
  {
   "cell_type": "markdown",
   "metadata": {},
   "source": [
    "람다"
   ]
  },
  {
   "cell_type": "code",
   "execution_count": 51,
   "metadata": {},
   "outputs": [
    {
     "name": "stdout",
     "output_type": "stream",
     "text": [
      "8\n",
      "10\n"
     ]
    }
   ],
   "source": [
    "def add(a,b):\n",
    "    result = a+b\n",
    "    return result\n",
    "print(add(3,5))\n",
    "\n",
    "print((lambda a,b:a+b)(3,7))"
   ]
  },
  {
   "cell_type": "code",
   "execution_count": null,
   "metadata": {},
   "outputs": [],
   "source": []
  }
 ],
 "metadata": {
  "kernelspec": {
   "display_name": "Python 3",
   "language": "python",
   "name": "python3"
  },
  "language_info": {
   "codemirror_mode": {
    "name": "ipython",
    "version": 3
   },
   "file_extension": ".py",
   "mimetype": "text/x-python",
   "name": "python",
   "nbconvert_exporter": "python",
   "pygments_lexer": "ipython3",
   "version": "3.9.6"
  },
  "orig_nbformat": 4
 },
 "nbformat": 4,
 "nbformat_minor": 2
}
