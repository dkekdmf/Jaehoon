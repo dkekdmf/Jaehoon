{
 "cells": [
  {
   "cell_type": "code",
   "execution_count": null,
   "metadata": {},
   "outputs": [],
   "source": [
    "N = int(input())\n",
    "M = []\n",
    "for i in range(N):\n",
    "    M.append(int(input()))\n",
    "M.sort()\n",
    "for i in range(len(M)):\n",
    "    print(M[i])"
   ]
  }
 ],
 "metadata": {
  "language_info": {
   "name": "python"
  },
  "orig_nbformat": 4
 },
 "nbformat": 4,
 "nbformat_minor": 2
}
